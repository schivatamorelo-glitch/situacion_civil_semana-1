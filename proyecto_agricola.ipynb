{
  "nbformat": 4,
  "nbformat_minor": 0,
  "metadata": {
    "colab": {
      "provenance": [],
      "authorship_tag": "ABX9TyPGFoJEpdG7zBIvSEZAOdhs",
      "include_colab_link": true
    },
    "kernelspec": {
      "name": "python3",
      "display_name": "Python 3"
    },
    "language_info": {
      "name": "python"
    }
  },
  "cells": [
    {
      "cell_type": "markdown",
      "metadata": {
        "id": "view-in-github",
        "colab_type": "text"
      },
      "source": [
        "<a href=\"https://colab.research.google.com/github/schivatamorelo-glitch/situacion_civil_semana-1/blob/main/proyecto_agricola.ipynb\" target=\"_parent\"><img src=\"https://colab.research.google.com/assets/colab-badge.svg\" alt=\"Open In Colab\"/></a>"
      ]
    },
    {
      "cell_type": "markdown",
      "source": [
        "##situacion de interes agricola\n",
        "un agricultor necesita saber cuantos kilogramos de semilla de maiz debe comprar para sembrar un lote rectangular. conoce la densidad de siembra recomendada(kg por hectarea) y las dimensiones del lote( largo y ancho del lote)"
      ],
      "metadata": {
        "id": "pj31TlhJKhfm"
      }
    },
    {
      "cell_type": "code",
      "source": [
        "#calculo de semillas\n",
        "#1.saludar al usuario y explicar que hace el programa\n",
        "print(bienvenidos al calculo de semillas)\n",
        "\n",
        "#2. pedir al usuario que ingrese el largo del lote en metros(input sin conversacion)\n",
        "largo=input(\"ingrese el largo del lote en metros\")\n",
        "\n",
        "#3. pedir al usuario que ingrese el ancho del lote en metros(input sin conversacion)\n",
        "ancho=input(\"ingrese el ancho del lote en metros\")\n",
        "\n",
        "#4. pedir la densidad de siembra en kg/hectarea(input)\n",
        "densidad = input(\"ingrese la densidad de siembra en kg/hectarea\")\n",
        "#5.convertir las entradas de texto a numeros decimales(float)\n",
        "largo=float(largo)\n",
        "ancho=float(ancho)\n",
        "densidad=float(densidad)\n",
        "\n",
        "#6.calcular el area del lote en metros cuadrados (largo*ancho)\n",
        "area = largo *ancho\n",
        "#7. convertir el area a hectareas (1 hectarea= 10,000 m)\n",
        "area=area* / 1000\n",
        "\n",
        "#8.calcular la cantidad de semillas en kilogramos(area* densidad)\n",
        "semillas = area * densidad\n",
        "\n",
        "#9. mostrar el resultado el usuario\n",
        "print(\"la cantidad de semillas en kilogramos es:\",semilas, \"kg\")"
      ],
      "metadata": {
        "id": "xy2BQlUmLGaR"
      },
      "execution_count": null,
      "outputs": []
    }
  ]
}