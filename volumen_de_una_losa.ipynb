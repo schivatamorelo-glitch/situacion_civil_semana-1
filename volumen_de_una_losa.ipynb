{
  "nbformat": 4,
  "nbformat_minor": 0,
  "metadata": {
    "colab": {
      "provenance": [],
      "authorship_tag": "ABX9TyPcdUDMSlBOx4bAOCZ/5YJo",
      "include_colab_link": true
    },
    "kernelspec": {
      "name": "python3",
      "display_name": "Python 3"
    },
    "language_info": {
      "name": "python"
    }
  },
  "cells": [
    {
      "cell_type": "markdown",
      "metadata": {
        "id": "view-in-github",
        "colab_type": "text"
      },
      "source": [
        "<a href=\"https://colab.research.google.com/github/schivatamorelo-glitch/situacion_civil_semana-1/blob/main/volumen_de_una_losa.ipynb\" target=\"_parent\"><img src=\"https://colab.research.google.com/assets/colab-badge.svg\" alt=\"Open In Colab\"/></a>"
      ]
    },
    {
      "cell_type": "code",
      "execution_count": null,
      "metadata": {
        "colab": {
          "base_uri": "https://localhost:8080/"
        },
        "id": "jcCb8nHeDwJS",
        "outputId": "472c7feb-3bc2-44e6-9703-191ce7765912"
      },
      "outputs": [
        {
          "output_type": "stream",
          "name": "stdout",
          "text": [
            "¡Bienvenido/a!\n",
            "Este programa calcula el volumen de concreto necesario para vaciar una losa rectangular simple de piso.\n",
            "\n"
          ]
        }
      ],
      "source": [
        "# ============================================\n",
        "# Programa: Cálculo de volumen de concreto\n",
        "# Autor: Chivata\n",
        "# Descripción:\n",
        "# Este programa permite calcular de manera rápida\n",
        "# el volumen de concreto necesario para vaciar\n",
        "# una losa rectangular simple de piso.\n",
        "# ============================================\n",
        "\n",
        "def calcular_volumen_losa():\n",
        "    # 1. Saludo inicial y explicación\n",
        "    print(\"¡Bienvenido/a!\")\n",
        "    print(\"Este programa calcula el volumen de concreto necesario para vaciar una losa rectangular simple de piso.\\n\")\n",
        "\n",
        "    # 2. Pedir los datos al usuario\n",
        "    largo = input(\"Por favor, ingrese el largo de la losa en metros: \")\n",
        "    ancho = input(\"Por favor, ingrese el ancho de la losa en metros: \")\n",
        "    espesor = input(\"Por favor, ingrese el espesor de la losa en metros: \")\n",
        "\n",
        "    # 3. Conversión de entradas a números decimales (float)\n",
        "    try:\n",
        "        largo = float(largo)\n",
        "        ancho = float(ancho)\n",
        "        espesor = float(espesor)\n",
        "\n",
        "        # 4. Cálculo del volumen\n",
        "        volumen = largo * ancho * espesor\n",
        "\n",
        "        # 5. Mostrar el resultado\n",
        "        print(f\"\\nEl volumen de concreto necesario es: {volumen:.2f} metros cúbicos.\")\n",
        "\n",
        "    except ValueError:\n",
        "        print(\"\\nError: Debe ingresar solo valores numéricos (usar punto para decimales).\")\n",
        "\n",
        "# ==========================\n",
        "# Punto de entrada del programa\n",
        "# ==========================\n",
        "if __name__ == \"__main__\":\n",
        "    calcular_volumen_losa()\n"
      ]
    }
  ]
}